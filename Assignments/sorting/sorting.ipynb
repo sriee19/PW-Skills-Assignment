{
 "cells": [
  {
   "cell_type": "code",
   "execution_count": null,
   "metadata": {},
   "outputs": [],
   "source": [
    "from collections import Counter\n",
    "\n",
    "def find_max_occurred_element(arr):\n",
    "    count_dict = Counter(arr)\n",
    "    \n",
    "    max_occurred_element = max(count_dict, key=count_dict.get)\n",
    "    \n",
    "    return max_occurred_element\n",
    "\n",
    "arr = [1, 2, 3, 4, 2, 2, 3, 1, 4, 4, 4]\n",
    "result = find_max_occurred_element(arr)\n",
    "print(\"Element appearing maximum number of times:\", result)\n"
   ]
  },
  {
   "cell_type": "code",
   "execution_count": null,
   "metadata": {},
   "outputs": [],
   "source": [
    "def find_missing_element(arr):\n",
    "    n = len(arr) + 1 \n",
    "    total_sum = n * (n + 1) // 2 \n",
    "\n",
    "    arr_sum = sum(arr)  \n",
    "    missing_element = total_sum - arr_sum  \n",
    "    return missing_element\n",
    "\n",
    "\n",
    "arr = [1, 2, 4, 6, 3, 7, 8]\n",
    "result = find_missing_element(arr)\n",
    "print(\"Missing element:\", result)\n"
   ]
  },
  {
   "cell_type": "code",
   "execution_count": null,
   "metadata": {},
   "outputs": [],
   "source": [
    "def find_odd_occurred_number(arr):\n",
    "    result = 0\n",
    "\n",
    "    for num in arr:\n",
    "        result ^= num\n",
    "\n",
    "    return result\n",
    "\n",
    "arr = [1, 2, 3, 2, 3, 1, 3]\n",
    "result = find_odd_occurred_number(arr)\n",
    "print(\"Number occurring odd number of times:\", result)\n"
   ]
  },
  {
   "cell_type": "code",
   "execution_count": null,
   "metadata": {},
   "outputs": [],
   "source": [
    "def find_pair_with_sum(arr, K):\n",
    "    seen_numbers = set()\n",
    "\n",
    "    for num in arr:\n",
    "        complement = K - num\n",
    "        if complement in seen_numbers:\n",
    "            return num, complement\n",
    "        seen_numbers.add(num)\n",
    "\n",
    "    return None\n",
    "\n",
    "arr = [1, 2, 4, 7, 11, 15]\n",
    "K = 9\n",
    "result = find_pair_with_sum(arr, K)\n",
    "print(\"Pair with sum\", K, \":\", result)\n"
   ]
  },
  {
   "cell_type": "code",
   "execution_count": null,
   "metadata": {},
   "outputs": [],
   "source": [
    "def find_closest_sum_pair(arr):\n",
    "    arr.sort()  \n",
    "    left, right = 0, len(arr) - 1\n",
    "    closest_sum_pair = (float('inf'), float('-inf'))\n",
    "\n",
    "    while left < right:\n",
    "        current_sum = arr[left] + arr[right]\n",
    "        \n",
    "        if abs(current_sum) < abs(closest_sum_pair[0] + closest_sum_pair[1]):\n",
    "            closest_sum_pair = (arr[left], arr[right])\n",
    "\n",
    "        if current_sum < 0:\n",
    "            left += 1\n",
    "        elif current_sum > 0:\n",
    "            right -= 1\n",
    "        else:\n",
    "            return closest_sum_pair\n",
    "\n",
    "    return closest_sum_pair\n",
    "\n",
    "arr = [1, 60, -10, 70, -80, 85]\n",
    "result = find_closest_sum_pair(arr)\n",
    "print(\"Two numbers with sum closest to 0:\", result)\n"
   ]
  }
 ],
 "metadata": {
  "language_info": {
   "name": "python"
  }
 },
 "nbformat": 4,
 "nbformat_minor": 2
}
