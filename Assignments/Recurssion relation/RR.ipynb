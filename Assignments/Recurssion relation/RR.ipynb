{
 "cells": [
  {
   "cell_type": "code",
   "execution_count": null,
   "metadata": {},
   "outputs": [],
   "source": [
    "# Recursive Recurrence Relation Function\n",
    "def recurrence_relation(n):\n",
    "    if n == 0:\n",
    "        return 5\n",
    "    else:\n",
    "        return 3 * recurrence_relation(n - 1) + 12 * n\n",
    "\n",
    "result_t2 = recurrence_relation(2)\n",
    "print(\"T(2) for the given recurrence relation:\", result_t2)\n"
   ]
  },
  {
   "cell_type": "code",
   "execution_count": null,
   "metadata": {},
   "outputs": [],
   "source": [
    "# a. T(n) = T(n-1) + c\n",
    "def recurrence_a(n):\n",
    "    if n == 0:\n",
    "        return 0\n",
    "    else:\n",
    "        return recurrence_a(n - 1) + 5"
   ]
  },
  {
   "cell_type": "code",
   "execution_count": null,
   "metadata": {},
   "outputs": [],
   "source": [
    "# b. T(n) = 2T(n/2) + n\n",
    "def recurrence_b(n):\n",
    "    if n == 1:\n",
    "        return 1\n",
    "    else:\n",
    "        return 2 * recurrence_b(n // 2) + n"
   ]
  },
  {
   "cell_type": "code",
   "execution_count": null,
   "metadata": {},
   "outputs": [],
   "source": [
    "# c. T(n) = 2T(n/2) + c\n",
    "def recurrence_c(n):\n",
    "    if n == 1:\n",
    "        return 1\n",
    "    else:\n",
    "        return 2 * recurrence_c(n // 2) + 5"
   ]
  },
  {
   "cell_type": "code",
   "execution_count": null,
   "metadata": {},
   "outputs": [],
   "source": [
    "# d. T(n) = T(n/2) + c\n",
    "def recurrence_d(n):\n",
    "    if n == 1:\n",
    "        return 5\n",
    "    else:\n",
    "        return recurrence_d(n // 2) + 2"
   ]
  },
  {
   "cell_type": "code",
   "execution_count": null,
   "metadata": {},
   "outputs": [],
   "source": [
    "result_a = recurrence_a(5)\n",
    "result_b = recurrence_b(8)\n",
    "result_c = recurrence_c(8)\n",
    "result_d = recurrence_d(16)\n",
    "\n",
    "print(\"a. T(5) for recurrence relation: \", result_a)\n",
    "print(\"b. T(8) for recurrence relation: \", result_b)\n",
    "print(\"c. T(8) for recurrence relation: \", result_c)\n",
    "print(\"d. T(16) for recurrence relation: \", result_d)"
   ]
  },
  {
   "cell_type": "code",
   "execution_count": null,
   "metadata": {},
   "outputs": [],
   "source": [
    "# Recursive Tree Approach for T(n) = 2T(n-1) + 1\n",
    "def recurrence_tree_a(n):\n",
    "    if n == 0:\n",
    "        return 1\n",
    "    else:\n",
    "        return 2 * recurrence_tree_a(n - 1) + 1\n",
    "\n",
    "result_tree_a = recurrence_tree_a(3)  # Change the parameter as needed\n",
    "print(\"Recursive Tree Approach for a. T(n) = 2T(n-1) + 1:\", result_tree_a)\n"
   ]
  },
  {
   "cell_type": "code",
   "execution_count": null,
   "metadata": {},
   "outputs": [],
   "source": [
    "# Recursive Tree Approach for T(n) = 2T(n/2) + n\n",
    "def recurrence_tree_b(n):\n",
    "    if n == 1:\n",
    "        return 1\n",
    "    else:\n",
    "        return 2 * recurrence_tree_b(n // 2) + n\n",
    "\n",
    "result_tree_b = recurrence_tree_b(8)  # Change the parameter as needed\n",
    "print(\"Recursive Tree Approach for b. T(n) = 2T(n/2) + n:\", result_tree_b)\n"
   ]
  }
 ],
 "metadata": {
  "language_info": {
   "name": "python"
  }
 },
 "nbformat": 4,
 "nbformat_minor": 2
}
