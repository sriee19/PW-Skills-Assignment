def calculate_sum(arr):
    if not arr:
        raise ValueError("Array is empty")
    return sum(arr)

# Example usage
array = [92, 23, 15, -20, 10]
result = calculate_sum(array)
print("The sum of the values in the array is:", result)
