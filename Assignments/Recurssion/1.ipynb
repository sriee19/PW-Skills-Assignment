{
 "cells": [
  {
   "cell_type": "code",
   "execution_count": null,
   "metadata": {},
   "outputs": [],
   "source": [
    "def tower_of_hanoi(n, source, auxiliary, destination):\n",
    "    if n == 1:\n",
    "        print(f\"Move disk 1 from {source} to {destination}\")\n",
    "    else:\n",
    "        tower_of_hanoi(n - 1, source, destination, auxiliary)\n",
    "        print(f\"Move disk {n} from {source} to {destination}\")\n",
    "        tower_of_hanoi(n - 1, auxiliary, source, destination)\n",
    "\n",
    "tower_of_hanoi(3, 'A', 'B', 'C')\n"
   ]
  },
  {
   "cell_type": "code",
   "execution_count": null,
   "metadata": {},
   "outputs": [],
   "source": [
    "# Minimum Edit Distance Function\n",
    "def min_distance(word1, word2):\n",
    "    m, n = len(word1), len(word2)\n",
    "    dp = [[0] * (n + 1) for _ in range(m + 1)]\n",
    "\n",
    "    for i in range(m + 1):\n",
    "        for j in range(n + 1):\n",
    "            if i == 0:\n",
    "                dp[i][j] = j\n",
    "            elif j == 0:\n",
    "                dp[i][j] = i\n",
    "            elif word1[i - 1] == word2[j - 1]:\n",
    "                dp[i][j] = dp[i - 1][j - 1]\n",
    "            else:\n",
    "                dp[i][j] = 1 + min(dp[i - 1][j], dp[i][j - 1], dp[i - 1][j - 1])\n",
    "\n",
    "    return dp[m][n]\n",
    "\n",
    "result1 = min_distance(\"horse\", \"ros\")\n",
    "print(\"Example 1:\", result1)\n",
    "\n",
    "result2 = min_distance(\"intention\", \"execution\")\n",
    "print(\"Example 2:\", result2)\n"
   ]
  },
  {
   "cell_type": "code",
   "execution_count": null,
   "metadata": {},
   "outputs": [],
   "source": [
    "# Function to Find Maximum Value in an Array\n",
    "def find_max_value(arr):\n",
    "    if not arr:\n",
    "        raise ValueError(\"Array is empty\")\n",
    "    max_val = arr[0]\n",
    "    for val in arr[1:]:\n",
    "        if val > max_val:\n",
    "            max_val = val\n",
    "    return max_val\n",
    "\n",
    "# Example usage\n",
    "array = [13, 1, -3, 22, 5]\n",
    "result = find_max_value(array)\n",
    "print(\"The maximum value in the array is:\", result)\n"
   ]
  }
 ],
 "metadata": {
  "language_info": {
   "name": "python"
  }
 },
 "nbformat": 4,
 "nbformat_minor": 2
}
