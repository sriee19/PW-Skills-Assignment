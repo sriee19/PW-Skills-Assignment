{
 "cells": [
  {
   "cell_type": "code",
   "execution_count": null,
   "metadata": {},
   "outputs": [],
   "source": [
    "class ListNode:\n",
    "    def __init__(self, value=0, next=None):\n",
    "        self.value = value\n",
    "        self.next = next\n",
    "\n",
    "def reverse_linked_list(head):\n",
    "    prev = None\n",
    "    current = head\n",
    "\n",
    "    while current is not None:\n",
    "        next_node = current.next\n",
    "        current.next = prev\n",
    "        prev = current\n",
    "        current = next_node\n",
    "\n",
    "    return prev\n",
    "\n",
    "# Function to print the linked list\n",
    "def print_linked_list(head):\n",
    "    current = head\n",
    "    while current is not None:\n",
    "        print(current.value, end=\" -> \")\n",
    "        current = current.next\n",
    "    print(\"None\")\n",
    "\n",
    "# Example usage:\n",
    "# Create a linked list: 1 -> 2 -> 3 -> 4 -> 5\n",
    "head = ListNode(1, ListNode(2, ListNode(3, ListNode(4, ListNode(5)))))\n",
    "\n",
    "print(\"Original Linked List:\")\n",
    "print_linked_list(head)\n",
    "\n",
    "# Reverse the linked list\n",
    "head = reverse_linked_list(head)\n",
    "\n",
    "print(\"\\nReversed Linked List:\")\n",
    "print_linked_list(head)\n"
   ]
  }
 ],
 "metadata": {
  "language_info": {
   "name": "python"
  }
 },
 "nbformat": 4,
 "nbformat_minor": 2
}
